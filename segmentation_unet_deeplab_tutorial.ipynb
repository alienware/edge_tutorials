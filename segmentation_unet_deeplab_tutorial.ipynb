{
 "cells": [
  {
   "cell_type": "markdown",
   "metadata": {},
   "source": [
    "# setting up the project"
   ]
  },
  {
   "cell_type": "markdown",
   "metadata": {},
   "source": [
    "## setting up the project name and workspace"
   ]
  },
  {
   "cell_type": "code",
   "execution_count": null,
   "metadata": {},
   "outputs": [],
   "source": [
    "from edge import set_project_name, set_project_path\n",
    "\n",
    "set_project_name(\"The Name\") \n",
    "set_project_path(\"/path/to/project/\")"
   ]
  },
  {
   "cell_type": "markdown",
   "metadata": {},
   "source": [
    "## get_analytics\n",
    "\n",
    "the following calculates the analytics from the given dataset,and "
   ]
  },
  {
   "cell_type": "code",
   "execution_count": null,
   "metadata": {},
   "outputs": [],
   "source": [
    "from edge.segmentation import get_analytics\n",
    "\n",
    "get_analytics(\n",
    " imagefolder='path/to/jpg', \n",
    " maskfolder='path/to/png')"
   ]
  },
  {
   "cell_type": "markdown",
   "metadata": {},
   "source": [
    "# training an algorithm and inferring"
   ]
  },
  {
   "cell_type": "markdown",
   "metadata": {},
   "source": [
    "## 1. Unet-8"
   ]
  },
  {
   "cell_type": "markdown",
   "metadata": {},
   "source": [
    "### training"
   ]
  },
  {
   "cell_type": "code",
   "execution_count": null,
   "metadata": {},
   "outputs": [],
   "source": [
    "from edge.segmentation.unet import train\n",
    "\n",
    "train(\n",
    "    resize_height=512,\n",
    "    resize_width=512,\n",
    "    num_epochs=50,\n",
    "    batch_size=2,\n",
    "    checkpoint_prefix='test_unet',\n",
    "    snapshot_every_epoch=None,\n",
    "    checkpoint_path=None,\n",
    "    steps_per_epoch=None,\n",
    "    initial_epoch=0,\n",
    "    weights=None,\n",
    "    aug=None,\n",
    "    lr=1e-5,\n",
    "    print_summary=True)"
   ]
  },
  {
   "cell_type": "markdown",
   "metadata": {},
   "source": [
    "### inference"
   ]
  },
  {
   "cell_type": "code",
   "execution_count": null,
   "metadata": {},
   "outputs": [],
   "source": [
    "from edge.segmentation.unet import get_inference_model, , image_predict\n",
    "from PIL import Image\n",
    "\n",
    "model = get_inference_model(checkpoint)\n",
    "\n",
    "result = image_predict('/mnt/mydata/dog6.jpg',model)\n",
    "mask = result['mask']\n",
    "\n",
    "confidence_threshold = 0.75\n",
    "mask = (mask > confidence_threshold)*255\n",
    "mask = mask.astype('uint8')\n",
    "\n",
    "class_of_interest = 1\n",
    "mask = mask[:,:,class_of_interest]\n",
    "\n",
    "mask_pil = Image.fromarray(mask)\n",
    "mask_pil.show()"
   ]
  },
  {
   "cell_type": "markdown",
   "metadata": {},
   "source": [
    "## 2. Deeplab-v3 plus"
   ]
  },
  {
   "cell_type": "markdown",
   "metadata": {},
   "source": [
    "### training"
   ]
  },
  {
   "cell_type": "code",
   "execution_count": null,
   "metadata": {},
   "outputs": [],
   "source": [
    "from edge.segmentation.deeplab_v3 import train\n",
    "\n",
    "train(\n",
    "    resize_height=600,\n",
    "    resize_width=600,\n",
    "    num_epochs=50,\n",
    "    batch_size=2,\n",
    "    checkpoint_prefix='test_deeplab',\n",
    "    snapshot_every_epoch=None,\n",
    "    output_stride=16,\n",
    "    atrous_rates=(6,12,18),\n",
    "    checkpoint_path=None,\n",
    "    steps_per_epoch=None,\n",
    "    initial_epoch=0,\n",
    "    weights='pascal_voc',\n",
    "    aug=None,\n",
    "    lr=1e-5,\n",
    "    backbone_network='xception',\n",
    "    print_summary=True)"
   ]
  },
  {
   "cell_type": "markdown",
   "metadata": {},
   "source": [
    "### inference"
   ]
  },
  {
   "cell_type": "code",
   "execution_count": null,
   "metadata": {},
   "outputs": [],
   "source": [
    "from PIL import Image\n",
    "from edge.segmentation.deeplab_v3 import get_inference_model, image_predict\n",
    "\n",
    "model = get_inference_model(checkpoint)\n",
    "\n",
    "result = image_predict('/mnt/mydata/dog6.jpg',model)\n",
    "mask = result['mask']\n",
    "\n",
    "confidence_threshold = 0.75\n",
    "mask = (mask > confidence_threshold)*255\n",
    "mask = mask.astype('uint8')\n",
    "\n",
    "class_of_interest = 1\n",
    "mask = mask[:,:,class_of_interest]\n",
    "\n",
    "mask_pil = Image.fromarray(mask)\n",
    "mask_pil.show()"
   ]
  }
 ],
 "metadata": {
  "kernelspec": {
   "display_name": "Python 3",
   "language": "python",
   "name": "python3"
  },
  "language_info": {
   "codemirror_mode": {
    "name": "ipython",
    "version": 3
   },
   "file_extension": ".py",
   "mimetype": "text/x-python",
   "name": "python",
   "nbconvert_exporter": "python",
   "pygments_lexer": "ipython3",
   "version": "3.6.8"
  }
 },
 "nbformat": 4,
 "nbformat_minor": 2
}
