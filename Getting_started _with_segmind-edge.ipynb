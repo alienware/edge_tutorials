{
 "cells": [
  {
   "cell_type": "markdown",
   "metadata": {},
   "source": [
    "# MINIMUM REQUIREMENTS"
   ]
  },
  {
   "cell_type": "code",
   "execution_count": 7,
   "metadata": {},
   "outputs": [
    {
     "name": "stdout",
     "output_type": "stream",
     "text": [
      "Ign:1 https://developer.download.nvidia.com/compute/cuda/repos/ubuntu1804/x86_64  InRelease\n",
      "Hit:2 http://archive.ubuntu.com/ubuntu bionic InRelease\n",
      "Hit:3 http://security.ubuntu.com/ubuntu bionic-security InRelease              \n",
      "Hit:4 http://archive.ubuntu.com/ubuntu bionic-updates InRelease                \n",
      "Ign:5 https://developer.download.nvidia.com/compute/machine-learning/repos/ubuntu1804/x86_64  InRelease\n",
      "Hit:6 https://developer.download.nvidia.com/compute/cuda/repos/ubuntu1804/x86_64  Release\n",
      "Hit:7 https://developer.download.nvidia.com/compute/machine-learning/repos/ubuntu1804/x86_64  Release\n",
      "Hit:8 http://archive.ubuntu.com/ubuntu bionic-backports InRelease\n",
      "Reading package lists... Done                      \n",
      "Reading package lists... Done\n",
      "Building dependency tree       \n",
      "Reading state information... Done\n",
      "libsm6 is already the newest version (2:1.2.2-1).\n",
      "libxext6 is already the newest version (2:1.3.3-1).\n",
      "libxrender-dev is already the newest version (1:0.9.10-1).\n",
      "0 upgraded, 0 newly installed, 0 to remove and 60 not upgraded.\n",
      "Requirement already satisfied: opencv-python==3.4.2.17 in /usr/local/lib/python3.6/dist-packages (3.4.2.17)\n",
      "Requirement already satisfied: numpy>=1.11.3 in /usr/local/lib/python3.6/dist-packages (from opencv-python==3.4.2.17) (1.18.1)\n",
      "\u001b[33mWARNING: You are using pip version 19.3.1; however, version 20.0.2 is available.\n",
      "You should consider upgrading via the 'pip install --upgrade pip' command.\u001b[0m\n",
      "Requirement already satisfied: cython in /usr/local/lib/python3.6/dist-packages (0.29.16)\n",
      "\u001b[33mWARNING: You are using pip version 19.3.1; however, version 20.0.2 is available.\n",
      "You should consider upgrading via the 'pip install --upgrade pip' command.\u001b[0m\n",
      "Reading package lists... Done\n",
      "Building dependency tree       \n",
      "Reading state information... Done\n",
      "The following NEW packages will be installed:\n",
      "  wget\n",
      "0 upgraded, 1 newly installed, 0 to remove and 60 not upgraded.\n",
      "Need to get 316 kB of archives.\n",
      "After this operation, 954 kB of additional disk space will be used.\n",
      "Get:1 http://archive.ubuntu.com/ubuntu bionic-updates/main amd64 wget amd64 1.19.4-1ubuntu2.2 [316 kB]\n",
      "Fetched 316 kB in 1s (326 kB/s)\n",
      "debconf: delaying package configuration, since apt-utils is not installed\n",
      "Selecting previously unselected package wget.\n",
      "(Reading database ... 17103 files and directories currently installed.)\n",
      "Preparing to unpack .../wget_1.19.4-1ubuntu2.2_amd64.deb ...\n",
      "Unpacking wget (1.19.4-1ubuntu2.2) ...\n",
      "Setting up wget (1.19.4-1ubuntu2.2) ...\n"
     ]
    }
   ],
   "source": [
    "!apt-get update\n",
    "\n",
    "!apt-get install -y libsm6 libxext6 libxrender-dev\n",
    "!pip3 install opencv-python==3.4.2.17\n",
    "!pip3 install cython\n",
    "!apt-get install wget"
   ]
  },
  {
   "cell_type": "markdown",
   "metadata": {},
   "source": [
    "# INSTALL edge"
   ]
  },
  {
   "cell_type": "code",
   "execution_count": 20,
   "metadata": {},
   "outputs": [
    {
     "name": "stdout",
     "output_type": "stream",
     "text": [
      "--2020-04-26 11:59:01--  https://segmind-data.s3.ap-south-1.amazonaws.com/edge/dist/edge-0.4.0/edge-0.4.0.dev0-cp36-cp36m-linux_x86_64.whl\n",
      "Resolving segmind-data.s3.ap-south-1.amazonaws.com (segmind-data.s3.ap-south-1.amazonaws.com)... 52.219.66.99\n",
      "Connecting to segmind-data.s3.ap-south-1.amazonaws.com (segmind-data.s3.ap-south-1.amazonaws.com)|52.219.66.99|:443... connected.\n",
      "HTTP request sent, awaiting response... 200 OK\n",
      "Length: 10007750 (9.5M) [binary/octet-stream]\n",
      "Saving to: ‘edge-0.4.0.dev0-cp36-cp36m-linux_x86_64.whl’\n",
      "\n",
      "edge-0.4.0.dev0-cp3 100%[===================>]   9.54M  3.40MB/s    in 2.8s    \n",
      "\n",
      "2020-04-26 11:59:04 (3.40 MB/s) - ‘edge-0.4.0.dev0-cp36-cp36m-linux_x86_64.whl’ saved [10007750/10007750]\n",
      "\n",
      "Processing ./edge-0.4.0.dev0-cp36-cp36m-linux_x86_64.whl\n",
      "Requirement already satisfied: matplotlib in /usr/local/lib/python3.6/dist-packages (from edge==0.4.0.dev0) (3.1.2)\n",
      "Requirement already satisfied: pandas in /usr/local/lib/python3.6/dist-packages (from edge==0.4.0.dev0) (1.0.3)\n",
      "Requirement already satisfied: keras-retinanet in /usr/local/lib/python3.6/dist-packages (from edge==0.4.0.dev0) (0.5.1)\n",
      "Requirement already satisfied: boto3 in /usr/local/lib/python3.6/dist-packages (from edge==0.4.0.dev0) (1.12.46)\n",
      "Requirement already satisfied: pycocotools in /usr/local/lib/python3.6/dist-packages (from edge==0.4.0.dev0) (2.0.0)\n",
      "Requirement already satisfied: scikit-learn in /usr/local/lib/python3.6/dist-packages (from edge==0.4.0.dev0) (0.22.2.post1)\n",
      "Requirement already satisfied: requests in /usr/local/lib/python3.6/dist-packages (from edge==0.4.0.dev0) (2.23.0)\n",
      "Requirement already satisfied: logzero in /usr/local/lib/python3.6/dist-packages (from edge==0.4.0.dev0) (1.5.0)\n",
      "Requirement already satisfied: tqdm in /usr/local/lib/python3.6/dist-packages (from edge==0.4.0.dev0) (4.45.0)\n",
      "Requirement already satisfied: PrettyTable in /usr/local/lib/python3.6/dist-packages (from edge==0.4.0.dev0) (0.7.2)\n",
      "Requirement already satisfied: python-dateutil>=2.1 in /usr/local/lib/python3.6/dist-packages (from matplotlib->edge==0.4.0.dev0) (2.8.1)\n",
      "Requirement already satisfied: numpy>=1.11 in /usr/local/lib/python3.6/dist-packages (from matplotlib->edge==0.4.0.dev0) (1.18.1)\n",
      "Requirement already satisfied: pyparsing!=2.0.4,!=2.1.2,!=2.1.6,>=2.0.1 in /usr/local/lib/python3.6/dist-packages (from matplotlib->edge==0.4.0.dev0) (2.4.6)\n",
      "Requirement already satisfied: kiwisolver>=1.0.1 in /usr/local/lib/python3.6/dist-packages (from matplotlib->edge==0.4.0.dev0) (1.1.0)\n",
      "Requirement already satisfied: cycler>=0.10 in /usr/local/lib/python3.6/dist-packages (from matplotlib->edge==0.4.0.dev0) (0.10.0)\n",
      "Requirement already satisfied: pytz>=2017.2 in /usr/local/lib/python3.6/dist-packages (from pandas->edge==0.4.0.dev0) (2019.3)\n",
      "Requirement already satisfied: keras-resnet in /usr/local/lib/python3.6/dist-packages (from keras-retinanet->edge==0.4.0.dev0) (0.2.0)\n",
      "Requirement already satisfied: progressbar2 in /usr/local/lib/python3.6/dist-packages (from keras-retinanet->edge==0.4.0.dev0) (3.51.0)\n",
      "Requirement already satisfied: cython in /usr/local/lib/python3.6/dist-packages (from keras-retinanet->edge==0.4.0.dev0) (0.29.16)\n",
      "Requirement already satisfied: six in /usr/lib/python3/dist-packages (from keras-retinanet->edge==0.4.0.dev0) (1.11.0)\n",
      "Requirement already satisfied: scipy in /usr/local/lib/python3.6/dist-packages (from keras-retinanet->edge==0.4.0.dev0) (1.4.1)\n",
      "Requirement already satisfied: keras in /usr/local/lib/python3.6/dist-packages (from keras-retinanet->edge==0.4.0.dev0) (2.3.1)\n",
      "Requirement already satisfied: opencv-python in /usr/local/lib/python3.6/dist-packages (from keras-retinanet->edge==0.4.0.dev0) (3.4.2.17)\n",
      "Requirement already satisfied: Pillow in /usr/local/lib/python3.6/dist-packages (from keras-retinanet->edge==0.4.0.dev0) (7.1.2)\n",
      "Requirement already satisfied: s3transfer<0.4.0,>=0.3.0 in /usr/local/lib/python3.6/dist-packages (from boto3->edge==0.4.0.dev0) (0.3.3)\n",
      "Requirement already satisfied: botocore<1.16.0,>=1.15.46 in /usr/local/lib/python3.6/dist-packages (from boto3->edge==0.4.0.dev0) (1.15.46)\n",
      "Requirement already satisfied: jmespath<1.0.0,>=0.7.1 in /usr/local/lib/python3.6/dist-packages (from boto3->edge==0.4.0.dev0) (0.9.5)\n",
      "Requirement already satisfied: joblib>=0.11 in /usr/local/lib/python3.6/dist-packages (from scikit-learn->edge==0.4.0.dev0) (0.14.1)\n",
      "Requirement already satisfied: urllib3!=1.25.0,!=1.25.1,<1.26,>=1.21.1 in /usr/local/lib/python3.6/dist-packages (from requests->edge==0.4.0.dev0) (1.25.9)\n",
      "Requirement already satisfied: idna<3,>=2.5 in /usr/lib/python3/dist-packages (from requests->edge==0.4.0.dev0) (2.6)\n",
      "Requirement already satisfied: certifi>=2017.4.17 in /usr/local/lib/python3.6/dist-packages (from requests->edge==0.4.0.dev0) (2020.4.5.1)\n",
      "Requirement already satisfied: chardet<4,>=3.0.2 in /usr/local/lib/python3.6/dist-packages (from requests->edge==0.4.0.dev0) (3.0.4)\n",
      "Requirement already satisfied: setuptools in /usr/local/lib/python3.6/dist-packages (from kiwisolver>=1.0.1->matplotlib->edge==0.4.0.dev0) (42.0.2)\n",
      "Requirement already satisfied: python-utils>=2.3.0 in /usr/local/lib/python3.6/dist-packages (from progressbar2->keras-retinanet->edge==0.4.0.dev0) (2.4.0)\n",
      "Requirement already satisfied: pyyaml in /usr/local/lib/python3.6/dist-packages (from keras->keras-retinanet->edge==0.4.0.dev0) (5.3.1)\n",
      "Requirement already satisfied: keras-applications>=1.0.6 in /usr/local/lib/python3.6/dist-packages (from keras->keras-retinanet->edge==0.4.0.dev0) (1.0.8)\n",
      "Requirement already satisfied: h5py in /usr/local/lib/python3.6/dist-packages (from keras->keras-retinanet->edge==0.4.0.dev0) (2.10.0)\n",
      "Requirement already satisfied: keras-preprocessing>=1.0.5 in /usr/local/lib/python3.6/dist-packages (from keras->keras-retinanet->edge==0.4.0.dev0) (1.1.0)\n",
      "Requirement already satisfied: docutils<0.16,>=0.10 in /usr/local/lib/python3.6/dist-packages (from botocore<1.16.0,>=1.15.46->boto3->edge==0.4.0.dev0) (0.15.2)\n",
      "Installing collected packages: edge\n",
      "  Found existing installation: edge 0.4.2.dev0\n",
      "    Uninstalling edge-0.4.2.dev0:\n",
      "      Successfully uninstalled edge-0.4.2.dev0\n",
      "Successfully installed edge-0.4.0.dev0\n",
      "\u001b[33mWARNING: You are using pip version 19.3.1; however, version 20.0.2 is available.\n",
      "You should consider upgrading via the 'pip install --upgrade pip' command.\u001b[0m\n"
     ]
    }
   ],
   "source": [
    "!wget https://segmind-data.s3.ap-south-1.amazonaws.com/edge/dist/edge-0.4.0/edge-0.4.0.dev0-cp36-cp36m-linux_x86_64.whl\n",
    "!pip3 install edge-0.4.0.dev0-cp36-cp36m-linux_x86_64.whl   "
   ]
  },
  {
   "cell_type": "markdown",
   "metadata": {},
   "source": [
    "# Install mlflow-lite"
   ]
  },
  {
   "cell_type": "code",
   "execution_count": 12,
   "metadata": {},
   "outputs": [
    {
     "name": "stdout",
     "output_type": "stream",
     "text": [
      "--2020-04-26 11:07:30--  https://segmind-data.s3.ap-south-1.amazonaws.com/edge/dist/mlflowlite/mlflow_lite-0.0.1.dev0-py3-none-any.whl\n",
      "Resolving segmind-data.s3.ap-south-1.amazonaws.com (segmind-data.s3.ap-south-1.amazonaws.com)... 52.219.66.115\n",
      "Connecting to segmind-data.s3.ap-south-1.amazonaws.com (segmind-data.s3.ap-south-1.amazonaws.com)|52.219.66.115|:443... connected.\n",
      "HTTP request sent, awaiting response... 200 OK\n",
      "Length: 320603 (313K) [binary/octet-stream]\n",
      "Saving to: ‘mlflow_lite-0.0.1.dev0-py3-none-any.whl.3’\n",
      "\n",
      "mlflow_lite-0.0.1.d 100%[===================>] 313.09K  --.-KB/s    in 0.1s    \n",
      "\n",
      "2020-04-26 11:07:30 (2.25 MB/s) - ‘mlflow_lite-0.0.1.dev0-py3-none-any.whl.3’ saved [320603/320603]\n",
      "\n",
      "Uninstalling enum34-1.1.6:\n",
      "  Successfully uninstalled enum34-1.1.6\n",
      "Processing ./mlflow_lite-0.0.1.dev0-py3-none-any.whl\n",
      "Collecting sqlalchemy\n",
      "  Using cached https://files.pythonhosted.org/packages/01/3d/876b2c4e862de63dd25e53adddb9f53796d82758e81e25c057bc49ac94e7/SQLAlchemy-1.3.16-cp36-cp36m-manylinux2010_x86_64.whl\n",
      "Requirement already satisfied: numpy in /usr/local/lib/python3.6/dist-packages (from mlflow-lite==0.0.1.dev0) (1.18.1)\n",
      "Collecting sqlparse\n",
      "\u001b[?25l  Downloading https://files.pythonhosted.org/packages/85/ee/6e821932f413a5c4b76be9c5936e313e4fc626b33f16e027866e1d60f588/sqlparse-0.3.1-py2.py3-none-any.whl (40kB)\n",
      "\u001b[K     |████████████████████████████████| 40kB 753kB/s eta 0:00:01\n",
      "\u001b[?25hCollecting alembic\n",
      "  Using cached https://files.pythonhosted.org/packages/60/1e/cabc75a189de0fbb2841d0975243e59bde8b7822bacbb95008ac6fe9ad47/alembic-1.4.2.tar.gz\n",
      "  Installing build dependencies ... \u001b[?25ldone\n",
      "\u001b[?25h  Getting requirements to build wheel ... \u001b[?25ldone\n",
      "\u001b[?25h    Preparing wheel metadata ... \u001b[?25ldone\n",
      "\u001b[?25hCollecting gitpython>=2.1.0\n",
      "  Using cached https://files.pythonhosted.org/packages/19/1a/0df85d2bddbca33665d2148173d3281b290ac054b5f50163ea735740ac7b/GitPython-3.1.1-py3-none-any.whl\n",
      "Requirement already satisfied: python-dateutil in /usr/local/lib/python3.6/dist-packages (from mlflow-lite==0.0.1.dev0) (2.8.1)\n",
      "Collecting gorilla\n",
      "  Using cached https://files.pythonhosted.org/packages/e3/56/5a683944cbfc77e429c6f03c636ca50504a785f60ffae91ddd7f5f7bb520/gorilla-0.3.0-py2.py3-none-any.whl\n",
      "Requirement already satisfied: entrypoints in /usr/local/lib/python3.6/dist-packages (from mlflow-lite==0.0.1.dev0) (0.3)\n",
      "Requirement already satisfied: pyyaml in /usr/local/lib/python3.6/dist-packages (from mlflow-lite==0.0.1.dev0) (5.3.1)\n",
      "Collecting docker>=4.0.0\n",
      "\u001b[?25l  Downloading https://files.pythonhosted.org/packages/58/74/379a9d30b1620def158c40b88c43e01c1936a287ebb97afab0699c601c57/docker-4.2.0-py2.py3-none-any.whl (143kB)\n",
      "\u001b[K     |████████████████████████████████| 153kB 1.3MB/s eta 0:00:01\n",
      "\u001b[?25hRequirement already satisfied: requests>=2.17.3 in /usr/local/lib/python3.6/dist-packages (from mlflow-lite==0.0.1.dev0) (2.23.0)\n",
      "Requirement already satisfied: pandas in /usr/local/lib/python3.6/dist-packages (from mlflow-lite==0.0.1.dev0) (1.0.3)\n",
      "Collecting click>=7.0\n",
      "  Using cached https://files.pythonhosted.org/packages/dd/c0/4d8f43a9b16e289f36478422031b8a63b54b6ac3b1ba605d602f10dd54d6/click-7.1.1-py2.py3-none-any.whl\n",
      "Requirement already satisfied: protobuf>=3.6.0 in /usr/local/lib/python3.6/dist-packages (from mlflow-lite==0.0.1.dev0) (3.11.2)\n",
      "Requirement already satisfied: six>=1.10.0 in /usr/lib/python3/dist-packages (from mlflow-lite==0.0.1.dev0) (1.11.0)\n",
      "Collecting simplejson\n",
      "\u001b[?25l  Downloading https://files.pythonhosted.org/packages/98/87/a7b98aa9256c8843f92878966dc3d8d914c14aad97e2c5ce4798d5743e07/simplejson-3.17.0.tar.gz (83kB)\n",
      "\u001b[K     |████████████████████████████████| 92kB 2.8MB/s eta 0:00:011\n",
      "\u001b[?25hCollecting cloudpickle\n",
      "  Downloading https://files.pythonhosted.org/packages/ea/0b/189cd3c19faf362ff2df5f301456c6cf8571ef6684644cfdfdbff293825c/cloudpickle-1.3.0-py2.py3-none-any.whl\n",
      "Collecting mlflow\n",
      "\u001b[?25l  Downloading https://files.pythonhosted.org/packages/9e/a7/40679fdb5ac44ad922902b560818682038be169f88c23ad719b9d1f82090/mlflow-1.8.0-py3-none-any.whl (10.4MB)\n",
      "\u001b[K     |████████████████████████████████| 10.4MB 2.1MB/s eta 0:00:01\n",
      "\u001b[?25hCollecting querystring-parser\n",
      "  Using cached https://files.pythonhosted.org/packages/4a/fa/f54f5662e0eababf0c49e92fd94bf178888562c0e7b677c8941bbbcd1bd6/querystring_parser-1.2.4.tar.gz\n",
      "Collecting Mako\n",
      "\u001b[?25l  Downloading https://files.pythonhosted.org/packages/50/78/f6ade1e18aebda570eed33b7c534378d9659351cadce2fcbc7b31be5f615/Mako-1.1.2-py2.py3-none-any.whl (75kB)\n",
      "\u001b[K     |████████████████████████████████| 81kB 213kB/s eta 0:00:011\n",
      "\u001b[?25hCollecting python-editor>=0.3\n",
      "  Downloading https://files.pythonhosted.org/packages/c6/d3/201fc3abe391bbae6606e6f1d598c15d367033332bd54352b12f35513717/python_editor-1.0.4-py3-none-any.whl\n",
      "Collecting gitdb<5,>=4.0.1\n",
      "\u001b[?25l  Downloading https://files.pythonhosted.org/packages/74/52/ca35448b56c53a079d3ffe18b1978c6e424f6d4df02404877094c89f5bfb/gitdb-4.0.4-py3-none-any.whl (63kB)\n",
      "\u001b[K     |████████████████████████████████| 71kB 1.3MB/s eta 0:00:01\n",
      "\u001b[?25hCollecting websocket-client>=0.32.0\n",
      "\u001b[?25l  Downloading https://files.pythonhosted.org/packages/4c/5f/f61b420143ed1c8dc69f9eaec5ff1ac36109d52c80de49d66e0c36c3dfdf/websocket_client-0.57.0-py2.py3-none-any.whl (200kB)\n",
      "\u001b[K     |████████████████████████████████| 204kB 2.1MB/s eta 0:00:01\n",
      "\u001b[?25hRequirement already satisfied: certifi>=2017.4.17 in /usr/local/lib/python3.6/dist-packages (from requests>=2.17.3->mlflow-lite==0.0.1.dev0) (2020.4.5.1)\n",
      "Requirement already satisfied: idna<3,>=2.5 in /usr/lib/python3/dist-packages (from requests>=2.17.3->mlflow-lite==0.0.1.dev0) (2.6)\n",
      "Requirement already satisfied: chardet<4,>=3.0.2 in /usr/local/lib/python3.6/dist-packages (from requests>=2.17.3->mlflow-lite==0.0.1.dev0) (3.0.4)\n",
      "Requirement already satisfied: urllib3!=1.25.0,!=1.25.1,<1.26,>=1.21.1 in /usr/local/lib/python3.6/dist-packages (from requests>=2.17.3->mlflow-lite==0.0.1.dev0) (1.25.9)\n",
      "Requirement already satisfied: pytz>=2017.2 in /usr/local/lib/python3.6/dist-packages (from pandas->mlflow-lite==0.0.1.dev0) (2019.3)\n",
      "Requirement already satisfied: setuptools in /usr/local/lib/python3.6/dist-packages (from protobuf>=3.6.0->mlflow-lite==0.0.1.dev0) (42.0.2)\n",
      "Collecting prometheus-flask-exporter\n",
      "  Downloading https://files.pythonhosted.org/packages/74/72/167af24b6df90e1c9db21d4d3a1d67573f35a4ec2376eaebd1ac4e1bbf03/prometheus_flask_exporter-0.13.0.tar.gz\n",
      "Collecting Flask\n",
      "\u001b[?25l  Downloading https://files.pythonhosted.org/packages/f2/28/2a03252dfb9ebf377f40fba6a7841b47083260bf8bd8e737b0c6952df83f/Flask-1.1.2-py2.py3-none-any.whl (94kB)\n",
      "\u001b[K     |████████████████████████████████| 102kB 3.2MB/s ta 0:00:011     |████████████████████▉           | 61kB 2.8MB/s eta 0:00:01\n",
      "\u001b[?25hCollecting gunicorn; platform_system != \"Windows\"\n",
      "\u001b[?25l  Downloading https://files.pythonhosted.org/packages/69/ca/926f7cd3a2014b16870086b2d0fdc84a9e49473c68a8dff8b57f7c156f43/gunicorn-20.0.4-py2.py3-none-any.whl (77kB)\n",
      "\u001b[K     |████████████████████████████████| 81kB 2.6MB/s eta 0:00:011\n",
      "\u001b[?25hCollecting databricks-cli>=0.8.7\n",
      "\u001b[?25l  Downloading https://files.pythonhosted.org/packages/49/d1/fe0ba3d5c2b4b76ec035aa243bbc2fd0d60607a391f192ebe1656e17a4e2/databricks-cli-0.10.0.tar.gz (45kB)\n",
      "\u001b[K     |████████████████████████████████| 51kB 9.8MB/s  eta 0:00:01\n",
      "\u001b[?25hRequirement already satisfied: MarkupSafe>=0.9.2 in /usr/local/lib/python3.6/dist-packages (from Mako->alembic->mlflow-lite==0.0.1.dev0) (1.1.1)\n",
      "Collecting smmap<4,>=3.0.1\n",
      "  Downloading https://files.pythonhosted.org/packages/27/b1/e379cfb7c07bbf8faee29c4a1a2469dbea525f047c2b454c4afdefa20a30/smmap-3.0.2-py2.py3-none-any.whl\n",
      "Requirement already satisfied: prometheus_client in /usr/local/lib/python3.6/dist-packages (from prometheus-flask-exporter->mlflow->mlflow-lite==0.0.1.dev0) (0.7.1)\n",
      "Collecting itsdangerous>=0.24\n",
      "  Downloading https://files.pythonhosted.org/packages/76/ae/44b03b253d6fade317f32c24d100b3b35c2239807046a4c953c7b89fa49e/itsdangerous-1.1.0-py2.py3-none-any.whl\n",
      "Requirement already satisfied: Werkzeug>=0.15 in /usr/local/lib/python3.6/dist-packages (from Flask->mlflow->mlflow-lite==0.0.1.dev0) (0.16.1)\n",
      "Requirement already satisfied: Jinja2>=2.10.1 in /usr/local/lib/python3.6/dist-packages (from Flask->mlflow->mlflow-lite==0.0.1.dev0) (2.11.0)\n",
      "Collecting tabulate>=0.7.7\n",
      "  Downloading https://files.pythonhosted.org/packages/c4/f4/770ae9385990f5a19a91431163d262182d3203662ea2b5739d0fcfc080f1/tabulate-0.8.7-py3-none-any.whl\n",
      "Collecting configparser>=0.3.5\n",
      "  Downloading https://files.pythonhosted.org/packages/4b/6b/01baa293090240cf0562cc5eccb69c6f5006282127f2b846fad011305c79/configparser-5.0.0-py3-none-any.whl\n",
      "Building wheels for collected packages: alembic\n",
      "  Building wheel for alembic (PEP 517) ... \u001b[?25ldone\n",
      "\u001b[?25h  Created wheel for alembic: filename=alembic-1.4.2-cp36-none-any.whl size=159543 sha256=4de76027a00418b732441680e3db419a7e8223b12e07f64550351d061466e16a\n",
      "  Stored in directory: /root/.cache/pip/wheels/1f/04/83/76023f7a4c14688c0b5c2682a96392cfdd3ee4449eaaa287ef\n",
      "Successfully built alembic\n",
      "Building wheels for collected packages: simplejson, querystring-parser, prometheus-flask-exporter, databricks-cli\n",
      "  Building wheel for simplejson (setup.py) ... \u001b[?25ldone\n",
      "\u001b[?25h  Created wheel for simplejson: filename=simplejson-3.17.0-cp36-cp36m-linux_x86_64.whl size=111942 sha256=fe4a340c12e8b95f9c7d3a634707997ec04005d9cf36ed995bcb7938c151e89c\n",
      "  Stored in directory: /root/.cache/pip/wheels/86/c0/83/dcd0339abb2640544bb8e0938aab2d069cef55e5647ce6e097\n",
      "  Building wheel for querystring-parser (setup.py) ... \u001b[?25ldone\n",
      "\u001b[?25h  Created wheel for querystring-parser: filename=querystring_parser-1.2.4-cp36-none-any.whl size=7970 sha256=e9d4a7df41734b8b5773519b3633225f8e1242e3b30a27e29d3acb226bcea133\n",
      "  Stored in directory: /root/.cache/pip/wheels/1e/41/34/23ebf5d1089a9aed847951e0ee375426eb4ad0a7079d88d41e\n",
      "  Building wheel for prometheus-flask-exporter (setup.py) ... \u001b[?25ldone\n",
      "\u001b[?25h  Created wheel for prometheus-flask-exporter: filename=prometheus_flask_exporter-0.13.0-cp36-none-any.whl size=19352 sha256=56ccaf9c0016f2428935b2e8b800e4dd1305c495dc50629a898e187a208b18f3\n",
      "  Stored in directory: /root/.cache/pip/wheels/c8/2f/a3/c81e6aa99897467c82d523858738fb8c94d1d43e500da45dc2\n",
      "  Building wheel for databricks-cli (setup.py) ... \u001b[?25ldone\n",
      "\u001b[?25h  Created wheel for databricks-cli: filename=databricks_cli-0.10.0-cp36-none-any.whl size=86367 sha256=62d1af179726ce4652416c82ef00fddced09fb8a3c9605d577af00aa274ded65\n",
      "  Stored in directory: /root/.cache/pip/wheels/1e/e5/2d/a19c0bfd38005176063f130d72de17cb3d2d32c0ee384e7493\n",
      "Successfully built simplejson querystring-parser prometheus-flask-exporter databricks-cli\n",
      "\u001b[31mERROR: mlflow 1.8.0 has requirement sqlalchemy<=1.3.13, but you'll have sqlalchemy 1.3.16 which is incompatible.\u001b[0m\n",
      "Installing collected packages: sqlalchemy, sqlparse, Mako, python-editor, alembic, smmap, gitdb, gitpython, gorilla, websocket-client, docker, click, simplejson, cloudpickle, itsdangerous, Flask, prometheus-flask-exporter, querystring-parser, gunicorn, tabulate, configparser, databricks-cli, mlflow, mlflow-lite\n",
      "Successfully installed Flask-1.1.2 Mako-1.1.2 alembic-1.4.2 click-7.1.1 cloudpickle-1.3.0 configparser-5.0.0 databricks-cli-0.10.0 docker-4.2.0 gitdb-4.0.4 gitpython-3.1.1 gorilla-0.3.0 gunicorn-20.0.4 itsdangerous-1.1.0 mlflow-1.8.0 mlflow-lite-0.0.1.dev0 prometheus-flask-exporter-0.13.0 python-editor-1.0.4 querystring-parser-1.2.4 simplejson-3.17.0 smmap-3.0.2 sqlalchemy-1.3.16 sqlparse-0.3.1 tabulate-0.8.7 websocket-client-0.57.0\n",
      "\u001b[33mWARNING: You are using pip version 19.3.1; however, version 20.0.2 is available.\n",
      "You should consider upgrading via the 'pip install --upgrade pip' command.\u001b[0m\n"
     ]
    }
   ],
   "source": [
    "!wget https://segmind-data.s3.ap-south-1.amazonaws.com/edge/dist/mlflowlite/mlflow_lite-0.0.1.dev0-py3-none-any.whl\n",
    "!pip uninstall -y enum34\n",
    "!pip3 install mlflow_lite-0.0.1.dev0-py3-none-any.whl"
   ]
  },
  {
   "cell_type": "markdown",
   "metadata": {},
   "source": [
    "# setup"
   ]
  },
  {
   "cell_type": "code",
   "execution_count": 17,
   "metadata": {},
   "outputs": [],
   "source": [
    "#!mkdir ~/.segmind\n",
    "#!ls ~/.*\n",
    "email = 'pratik@segmind.com'\n",
    "password = 'pass'\n",
    "\n",
    "message = \"[secret]\\nemail = {}\\npassword={}\".format(email, password)\n",
    "\n",
    "with open('/root/.segmind/secret.file','w') as f:\n",
    "    f.write(message)"
   ]
  },
  {
   "cell_type": "code",
   "execution_count": 19,
   "metadata": {},
   "outputs": [
    {
     "data": {
      "text/plain": [
       "'0.4.2-dev'"
      ]
     },
     "execution_count": 19,
     "metadata": {},
     "output_type": "execute_result"
    }
   ],
   "source": [
    "import edge\n",
    "edge.__version__"
   ]
  }
 ],
 "metadata": {
  "kernelspec": {
   "display_name": "Python 3",
   "language": "python",
   "name": "python3"
  },
  "language_info": {
   "codemirror_mode": {
    "name": "ipython",
    "version": 3
   },
   "file_extension": ".py",
   "mimetype": "text/x-python",
   "name": "python",
   "nbconvert_exporter": "python",
   "pygments_lexer": "ipython3",
   "version": "3.6.9"
  }
 },
 "nbformat": 4,
 "nbformat_minor": 4
}
