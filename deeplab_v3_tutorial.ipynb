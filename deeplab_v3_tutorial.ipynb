{
 "cells": [
  {
   "cell_type": "markdown",
   "metadata": {},
   "source": [
    "# Deeplab V3 on Segmind Edge (0.2.0)"
   ]
  },
  {
   "cell_type": "code",
   "execution_count": null,
   "metadata": {},
   "outputs": [],
   "source": [
    "from edge import set_project_name, set_workspace\n",
    "\n",
    "set_project_name(\"project_name\")\n",
    "set_workspace(\"/path/to/project/\")"
   ]
  },
  {
   "cell_type": "markdown",
   "metadata": {},
   "source": [
    "### Getting Analytics\n",
    "\n",
    "This is a mandatory step to be run before training. It provides you statistics on training data, which will help you set the hyper-parameters for deeplab v3. It also creates project related files needed later during training and inference."
   ]
  },
  {
   "cell_type": "code",
   "execution_count": 4,
   "metadata": {},
   "outputs": [
    {
     "ename": "ValueError",
     "evalue": "Please set 'PROJECT' name envioronment variable",
     "output_type": "error",
     "traceback": [
      "\u001b[0;31m---------------------------------------------------------------------------\u001b[0m",
      "\u001b[0;31mValueError\u001b[0m                                Traceback (most recent call last)",
      "\u001b[0;32m<ipython-input-4-ddbee97669fe>\u001b[0m in \u001b[0;36m<module>\u001b[0;34m\u001b[0m\n\u001b[0;32m----> 1\u001b[0;31m \u001b[0;32mfrom\u001b[0m \u001b[0medge\u001b[0m\u001b[0;34m.\u001b[0m\u001b[0msegmentation\u001b[0m \u001b[0;32mimport\u001b[0m \u001b[0mget_analytics\u001b[0m\u001b[0;34m\u001b[0m\u001b[0;34m\u001b[0m\u001b[0m\n\u001b[0m\u001b[1;32m      2\u001b[0m \u001b[0;32mfrom\u001b[0m \u001b[0mpprint\u001b[0m \u001b[0;32mimport\u001b[0m \u001b[0mpprint\u001b[0m\u001b[0;34m\u001b[0m\u001b[0;34m\u001b[0m\u001b[0m\n\u001b[1;32m      3\u001b[0m \u001b[0;34m\u001b[0m\u001b[0m\n\u001b[1;32m      4\u001b[0m analytics_result = get_analytics(\n\u001b[1;32m      5\u001b[0m         \u001b[0mimage_dir\u001b[0m \u001b[0;34m=\u001b[0m \u001b[0;34m\"/path/to/jpgs/folder\"\u001b[0m\u001b[0;34m,\u001b[0m\u001b[0;34m\u001b[0m\u001b[0;34m\u001b[0m\u001b[0m\n",
      "\u001b[0;32m~/.local/lib/python3.7/site-packages/edge/segmentation/__init__.cpython-37m-x86_64-linux-gnu.so\u001b[0m in \u001b[0;36minit edge.segmentation.__init__\u001b[0;34m()\u001b[0m\n",
      "\u001b[0;32m~/.local/lib/python3.7/site-packages/edge/utils.cpython-37m-x86_64-linux-gnu.so\u001b[0m in \u001b[0;36medge.utils.get_project_meta\u001b[0;34m()\u001b[0m\n",
      "\u001b[0;32m~/.local/lib/python3.7/site-packages/edge/utils.cpython-37m-x86_64-linux-gnu.so\u001b[0m in \u001b[0;36medge.utils.assert_project_name\u001b[0;34m()\u001b[0m\n",
      "\u001b[0;31mValueError\u001b[0m: Please set 'PROJECT' name envioronment variable"
     ]
    }
   ],
   "source": [
    "from edge.segmentation import get_analytics\n",
    "from pprint import pprint\n",
    "\n",
    "analytics_result = get_analytics(\n",
    "        image_dir = \"/path/to/jpgs/folder\",\n",
    "        annotation_dir = \"/path/to/png-masks/folder\"\n",
    ")\n",
    "\n",
    "pprint(analytics_result)"
   ]
  },
  {
   "cell_type": "markdown",
   "metadata": {},
   "source": [
    "### Prepare data"
   ]
  },
  {
   "cell_type": "code",
   "execution_count": null,
   "metadata": {},
   "outputs": [],
   "source": [
    "from edge.segmentation import prepare_data\n",
    "\n",
    "prepare_data()"
   ]
  },
  {
   "cell_type": "markdown",
   "metadata": {},
   "source": [
    "### Training on Deeplab V3"
   ]
  },
  {
   "cell_type": "code",
   "execution_count": null,
   "metadata": {},
   "outputs": [],
   "source": [
    "from edge.segmentation.deeplab_v3 import train\n",
    "\n",
    "train(\n",
    "      resize_height=600,\n",
    "      resize_width=600,\n",
    "      num_epochs=50,\n",
    "      batch_size=2,\n",
    "      checkpoint_prefix='test_deeplab',\n",
    "      snapshot_every_epoch=5,\n",
    "      output_stride=16,\n",
    "      atrous_rates=(6,12,18),\n",
    "      checkpoint_path=None,\n",
    "      steps_per_epoch=None,\n",
    "      initial_epoch=0,\n",
    "      weights='pascal_voc', # pascal_voc, cityscapes, path to h5 file trained with edge\n",
    "      aug=None, # coming soon\n",
    "      lr=1e-5,\n",
    "      backbone_network='xception', # xception, mobilenetv2\n",
    "      print_summary=True)"
   ]
  },
  {
   "cell_type": "markdown",
   "metadata": {},
   "source": [
    "### Getting inference"
   ]
  },
  {
   "cell_type": "code",
   "execution_count": null,
   "metadata": {},
   "outputs": [],
   "source": [
    "from edge.segmentation.deeplab_v3 import get_inference_model, image_predict\n",
    "from PIL import Image\n",
    "\n",
    "checkpoint = \"path_to_checkpoint\"\n",
    "image_path = \"path_to_image_for_inference\"\n",
    "\n",
    "model = get_inference_model(checkpoint)\n",
    "result = image_predict(image_path, model)\n",
    "\n",
    "# Saving the mask\n",
    "mask = result['mask']\n",
    "\n",
    "confidence_threshold = 0.75\n",
    "mask = (mask > confidence_threshold)*255\n",
    "mask = mask.astype('uint8')\n",
    "class_of_interest = 1\n",
    "\n",
    "mask = mask[:,:,class_of_interest]\n",
    "mask_pil = Image.fromarray(mask)\n",
    "\n",
    "mask_pil.save(\"/path/to/save\")"
   ]
  }
 ],
 "metadata": {
  "kernelspec": {
   "display_name": "Python 3",
   "language": "python",
   "name": "python3"
  },
  "language_info": {
   "codemirror_mode": {
    "name": "ipython",
    "version": 3
   },
   "file_extension": ".py",
   "mimetype": "text/x-python",
   "name": "python",
   "nbconvert_exporter": "python",
   "pygments_lexer": "ipython3",
   "version": "3.7.3"
  }
 },
 "nbformat": 4,
 "nbformat_minor": 2
}
