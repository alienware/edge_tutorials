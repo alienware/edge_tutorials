{
 "cells": [
  {
   "cell_type": "markdown",
   "metadata": {},
   "source": [
    "# RetinaNet on Segmind Edge\n",
    "\n",
    "Detailed API documentation: https://docs.segmind.com/en/api/detection"
   ]
  },
  {
   "cell_type": "code",
   "execution_count": 1,
   "metadata": {},
   "outputs": [],
   "source": [
    "import os\n",
    "os.environ['PROJECT'] = 'retinanet_test_1'"
   ]
  },
  {
   "cell_type": "markdown",
   "metadata": {},
   "source": [
    "### Getting Analytics\n",
    "\n",
    "This is a mandatory step to be run before training. It provides you a statistics on training data, which will help you set the hyper-parameters for retinanet. It also creates project related files needed later during training and inference."
   ]
  },
  {
   "cell_type": "code",
   "execution_count": null,
   "metadata": {},
   "outputs": [],
   "source": [
    "from edge.detection import get_analytics\n",
    "from pprint import pprint\n",
    "\n",
    "analytics_result = get_analytics(\n",
    "        image_dir = \"/path/to/jpgs/folder\",\n",
    "        xml_dir = \"/path/to/xml/folder\",\n",
    "        project_path = \"/path/to/project/files\"\n",
    ")\n",
    "\n",
    "pprint(analytics_result)"
   ]
  },
  {
   "cell_type": "markdown",
   "metadata": {},
   "source": [
    "### Training on RetinaNet"
   ]
  },
  {
   "cell_type": "code",
   "execution_count": null,
   "metadata": {},
   "outputs": [],
   "source": [
    "from edge.detection.retinanet.keras_retinanet_trainer import train\n",
    "\n",
    "resize_height = 600\n",
    "resize_width = 600\n",
    "\n",
    "train(\n",
    "    resize_height,\n",
    "    resize_width,\n",
    "    num_epochs,\n",
    "    batch_size,\n",
    "    checkpoint_prefix=\"try1\",\n",
    "    snapshot_every_epoch,\n",
    "    checkpoint_path=None,\n",
    "    steps_per_epoch=None,\n",
    "    sizes=[16,32,64,128, 256],\n",
    "    strides=[8,16,32,64,128],\n",
    "    ratios=[0.5,1,2.0],\n",
    "    scales=[1,1.25,1.5],\n",
    "    initial_epoch=0,\n",
    "    weights='imagenet',\n",
    "    aug=None,\n",
    "    backbone_network='resnet50',\n",
    "    lr=1e-5,\n",
    "    print_summary=True)"
   ]
  },
  {
   "cell_type": "markdown",
   "metadata": {},
   "source": [
    "### Getting inference & drawing it on the image"
   ]
  },
  {
   "cell_type": "code",
   "execution_count": 1,
   "metadata": {},
   "outputs": [
    {
     "ename": "NameError",
     "evalue": "name 'exit' is not defined",
     "output_type": "error",
     "traceback": [
      "\u001b[0;31m---------------------------------------------------------------------------\u001b[0m",
      "\u001b[0;31mNameError\u001b[0m                                 Traceback (most recent call last)",
      "\u001b[0;32m<ipython-input-1-244c22b27598>\u001b[0m in \u001b[0;36m<module>\u001b[0;34m\u001b[0m\n\u001b[0;32m----> 1\u001b[0;31m \u001b[0;32mfrom\u001b[0m \u001b[0medge\u001b[0m\u001b[0;34m.\u001b[0m\u001b[0mdetection\u001b[0m\u001b[0;34m.\u001b[0m\u001b[0mretinanet\u001b[0m \u001b[0;32mimport\u001b[0m \u001b[0mget_inference_model\u001b[0m\u001b[0;34m,\u001b[0m \u001b[0mimage_predict\u001b[0m\u001b[0;34m\u001b[0m\u001b[0;34m\u001b[0m\u001b[0m\n\u001b[0m\u001b[1;32m      2\u001b[0m \u001b[0;34m\u001b[0m\u001b[0m\n\u001b[1;32m      3\u001b[0m \u001b[0mcheckpoint\u001b[0m \u001b[0;34m=\u001b[0m \u001b[0;34m\"path_to_checkpoint\"\u001b[0m\u001b[0;34m\u001b[0m\u001b[0;34m\u001b[0m\u001b[0m\n\u001b[1;32m      4\u001b[0m \u001b[0mimage_path\u001b[0m \u001b[0;34m=\u001b[0m \u001b[0;34m\"path_to_image_for_inference\"\u001b[0m\u001b[0;34m\u001b[0m\u001b[0;34m\u001b[0m\u001b[0m\n\u001b[1;32m      5\u001b[0m \u001b[0;34m\u001b[0m\u001b[0m\n",
      "\u001b[0;32m~/Documents/apps/segmind_edge/edge/__init__.cpython-37m-x86_64-linux-gnu.so\u001b[0m in \u001b[0;36minit edge.__init__\u001b[0;34m()\u001b[0m\n",
      "\u001b[0;32m~/Documents/apps/segmind_edge/edge/helpers/security.cpython-37m-x86_64-linux-gnu.so\u001b[0m in \u001b[0;36minit edge.helpers.security\u001b[0;34m()\u001b[0m\n",
      "\u001b[0;31mNameError\u001b[0m: name 'exit' is not defined"
     ]
    }
   ],
   "source": [
    "from edge.detection.retinanet import get_inference_model, image_predict\n",
    "\n",
    "checkpoint = \"path_to_checkpoint\"\n",
    "image_path = \"path_to_image_for_inference\"\n",
    "\n",
    "# Load the model\n",
    "model = get_inference_model(checkpoint)\n",
    "\n",
    "# Use the loaded instance to get predictions\n",
    "detections = image_predict(image_path, model)\n",
    "\n",
    "from edge.detection import draw_image\n",
    "\n",
    "image = draw_image(image_path,\n",
    "  bboxes=detections['boxes'],\n",
    "  labels=detections['labels'],\n",
    "  scores=detections['scores'],\n",
    "  threshold=0.5,\n",
    "  label_dict=None)\n",
    "\n",
    "image.show()"
   ]
  }
 ],
 "metadata": {
  "kernelspec": {
   "display_name": "Python 3",
   "language": "python",
   "name": "python3"
  },
  "language_info": {
   "codemirror_mode": {
    "name": "ipython",
    "version": 3
   },
   "file_extension": ".py",
   "mimetype": "text/x-python",
   "name": "python",
   "nbconvert_exporter": "python",
   "pygments_lexer": "ipython3",
   "version": "3.7.3"
  }
 },
 "nbformat": 4,
 "nbformat_minor": 2
}
