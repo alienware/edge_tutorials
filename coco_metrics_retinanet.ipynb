{
 "cells": [
  {
   "cell_type": "code",
   "execution_count": null,
   "metadata": {},
   "outputs": [],
   "source": [
    "from edge import set_project_name, set_workspace\n",
    "set_project_name('testing_metrics')\n",
    "\n",
    "from edge.metrics import convert_pascalvoc_coco\n",
    "\n",
    "convert_pascalvoc_coco(\n",
    "    image_dir='/input/image/dir/path',\n",
    "    annotation_dir='/input/xml/annotation/path',\n",
    "    coco_gt_path='/tmp/edge-test_coco_bbox_gt.json',\n",
    "    iouType='bbox')\n",
    "\n",
    "#supported iouTypes are 'bbox' & 'segm'"
   ]
  },
  {
   "cell_type": "code",
   "execution_count": null,
   "metadata": {},
   "outputs": [],
   "source": [
    "from edge.detection.retinanet.evaluation import CocoEvaluator\n",
    "from edge.detection.retinanet import get_inference_model\n",
    "\n",
    "checkpoint = \"path_to_checkpoint\"\n",
    "\n",
    "pred_model = get_inference_model(checkpoint)\n",
    "\n",
    "json_saver = CocoEvaluator(\n",
    "    model=pred_model, \n",
    "    coco_gt='/tmp/edge-test_coco_bbox_gt.json', #get this from above\n",
    "    coco_dt='/tmp/edge-test_coco_bbox_pred.json') #this is where generated predictions will be stored\n",
    "\n",
    "json_saver.run(image_dir=None) #if none then reads from coco_url field\n",
    "                               #else prefixes image_dir/ with file_name\n",
    "    \n"
   ]
  },
  {
   "cell_type": "code",
   "execution_count": null,
   "metadata": {},
   "outputs": [],
   "source": [
    "#use gt and dt in pycocotools.cocoeval.COCOeval\n",
    "from pycocotools.coco import COCO\n",
    "from pycocotools.cocoeval import COCOeval\n",
    "\n",
    "cocoGt=COCO('/tmp/edge-test_coco_bbox_gt.json')\n",
    "cocoDt=cocoGt.loadRes('/tmp/edge-test_coco_bbox_pred.json')\n",
    "\n",
    "cocoEval = COCOeval(\n",
    "    cocoGt=cocoGt, \n",
    "    cocoDt=cocoDt, \n",
    "    iouType='bbox')\n",
    "\n",
    "cocoEval.evaluate()\n",
    "cocoEval.accumulate()\n",
    "cocoEval.summarize()"
   ]
  }
 ],
 "metadata": {
  "kernelspec": {
   "display_name": "Python 3",
   "language": "python",
   "name": "python3"
  },
  "language_info": {
   "codemirror_mode": {
    "name": "ipython",
    "version": 3
   },
   "file_extension": ".py",
   "mimetype": "text/x-python",
   "name": "python",
   "nbconvert_exporter": "python",
   "pygments_lexer": "ipython3",
   "version": "3.6.9"
  }
 },
 "nbformat": 4,
 "nbformat_minor": 4
}
