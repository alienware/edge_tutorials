{
 "cells": [
  {
   "cell_type": "markdown",
   "metadata": {},
   "source": [
    "# Classification networks on Segmind Edge (>0.3.0)"
   ]
  },
  {
   "cell_type": "markdown",
   "metadata": {},
   "source": [
    "### To get started\n",
    "\n",
    "- [Install Edge](https://docs.segmind.com/installation)\n",
    "- [Configure Edge](https://docs.segmind.com/configure)\n",
    "- [Use sample dataset](https://docs.segmind.com/test-datasets)\n",
    "\n",
    "Update the paths to actual paths on your machine and you are good to go."
   ]
  },
  {
   "cell_type": "code",
   "execution_count": null,
   "metadata": {},
   "outputs": [],
   "source": [
    "from edge import set_project_name, set_workspace\n",
    "\n",
    "set_project_name(\"project_name\")\n",
    "set_workspace(\"/path/to/project/\")"
   ]
  },
  {
   "cell_type": "markdown",
   "metadata": {},
   "source": [
    "### Getting Analytics\n",
    "\n",
    "This is a mandatory step to be run before training. It provides you statistics on training data, which can help you set the right hyperparameters. It also creates project related files needed later during training and inference."
   ]
  },
  {
   "cell_type": "code",
   "execution_count": null,
   "metadata": {},
   "outputs": [],
   "source": [
    "from edge.classification import get_analytics\n",
    "\n",
    "get_analytics(\"/path/to/dataset\")"
   ]
  },
  {
   "cell_type": "markdown",
   "metadata": {},
   "source": [
    "### Prepare data"
   ]
  },
  {
   "cell_type": "code",
   "execution_count": null,
   "metadata": {},
   "outputs": [],
   "source": [
    "from edge.classification import prepare_data\n",
    "\n",
    "prepare_data()"
   ]
  },
  {
   "cell_type": "markdown",
   "metadata": {},
   "source": [
    "### Train on any classification network. You can find the list [here](https://docs.segmind.com/api/classification)\n",
    "Do not forget to change 'network_name' to the network of your choice."
   ]
  },
  {
   "cell_type": "code",
   "execution_count": null,
   "metadata": {},
   "outputs": [],
   "source": [
    "from edge.classification import network_name\n",
    "\n",
    "network_name.train(\n",
    "        resize_height=512,\n",
    "        resize_width=512,\n",
    "        num_epochs=50,\n",
    "        batch_size=32,\n",
    "        base_trainable=False,\n",
    "        fully_connected_layer=(256,256,256),\n",
    "        dropout_rate=None,\n",
    "        hidden_layer_Activation='relu',\n",
    "        checkpoint_prefix='test_training',\n",
    "        snapshot_every_epoch=5,\n",
    "        checkpoint_path=None,\n",
    "        steps_per_epoch=30,\n",
    "        initial_epoch=0,\n",
    "        weights='imagenet',\n",
    "        aug=None,\n",
    "        lr=1e-5,\n",
    "        print_summary=True)"
   ]
  },
  {
   "cell_type": "markdown",
   "metadata": {},
   "source": [
    "### Getting inference"
   ]
  },
  {
   "cell_type": "code",
   "execution_count": null,
   "metadata": {},
   "outputs": [],
   "source": [
    "from edge.classification import network_name\n",
    "\n",
    "model = network_name.get_inference_model('/path/to/checkpoint')\n",
    "network_name.image_predict('/path/to/image',model)"
   ]
  }
 ],
 "metadata": {
  "kernelspec": {
   "display_name": "Python 3",
   "language": "python",
   "name": "python3"
  }
 },
 "nbformat": 4,
 "nbformat_minor": 2
}
